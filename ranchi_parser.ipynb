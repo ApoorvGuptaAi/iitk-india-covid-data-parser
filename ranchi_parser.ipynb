{
 "cells": [
  {
   "cell_type": "code",
   "execution_count": 1,
   "id": "3bbb9a2d",
   "metadata": {},
   "outputs": [],
   "source": [
    "from bs4 import BeautifulSoup\n",
    "import requests\n",
    "import hospital "
   ]
  },
  {
   "cell_type": "code",
   "execution_count": null,
   "id": "85ab5c93",
   "metadata": {},
   "outputs": [],
   "source": [
    "class ResourceType(Enum):\n",
    "    BED_WITHOUT_OXYGEN = \"BED_WITHOUT_OXYGEN\"\n",
    "    BED_WITH_OXYGEN = \"BED_WITH_OXYGEN\"\n",
    "    ICU_WITH_VENTILATOR = \"ICU_WITH_VENTILATOR\"\n",
    "    ICU_WITHOUT_VENTILATOR = \"ICU_WITHOUT_VENTILATOR\"\n",
    "    TOTAL_BEDS = \"TOTAL_BEDS\"\n",
    "\n",
    "\n",
    "@dataclass\n",
    "class Resource:\n",
    "    resource_type: ResourceType\n",
    "    resource_description: str\n",
    "    resource_qty: int\n",
    "\n",
    "\n",
    "@dataclass\n",
    "class Hospital:\n",
    "    name: str\n",
    "    address: str\n",
    "    district: str\n",
    "    city: str\n",
    "    state: str\n",
    "    location: str\n",
    "    last_updated: datetime\n",
    "    resources: List[Resource]"
   ]
  },
  {
   "cell_type": "code",
   "execution_count": 2,
   "id": "ceb63ca5",
   "metadata": {},
   "outputs": [],
   "source": [
    "headers = {\n",
    "    'User-Agent': 'Mozilla/5.0 (Macintosh; Intel Mac OS X 10.12; rv:55.0) Gecko/20100101 Firefox/55.0',\n",
    "}\n",
    "page = requests.get('https://pratirakshak.co.in/new-report.php', headers=headers)\n",
    "soup = BeautifulSoup(page.text, 'html.parser')"
   ]
  },
  {
   "cell_type": "code",
   "execution_count": 3,
   "id": "845d42c3",
   "metadata": {},
   "outputs": [],
   "source": [
    "COL_NAMES = ['hosp_name', 'hosp_contact', 'ic_contact', 'No_Oxygen_Total', 'No_Oxygen_Occupied', 'No_Oxygen_Available', \n",
    "                'Oxygen_Total', 'Oxygen_Occupied', 'Oxygen_Available',\n",
    "                 'ICU_Total', 'ICU_Occupied', 'ICU_Available', 'last_updated'\n",
    "            ]"
   ]
  },
  {
   "cell_type": "code",
   "execution_count": 4,
   "id": "92244200",
   "metadata": {},
   "outputs": [],
   "source": [
    "hospital_data = []\n",
    "tables = soup.find('table')\n",
    "for row in tables.find_all('tr'):\n",
    "    row_data = [d.text for d in row.find_all('td')]\n",
    "    if not row_data:\n",
    "        continue\n",
    "    row_data = { c : r for r, c in zip(row_data, COL_NAMES) }\n",
    "    resources = [\n",
    "        hospital.Resource(hospital.ResourceType.BED_WITHOUT_OXYGEN, None, row_data['No_Oxygen_Available']),\n",
    "        hospital.Resource(hospital.ResourceType.BED_WITH_OXYGEN, None, row_data['Oxygen_Available']),\n",
    "        hospital.Resource(hospital.ResourceType.TOTAL_ICUS, None, row_data['ICU_Available'])\n",
    "    ]\n",
    "    hosp = hospital.Hospital(\n",
    "        row_data['hosp_name'], None, 'Ranchi', 'Ranchi', 'Jharkhand', '', row_data['last_updated'], resources\n",
    "    )\n",
    "    hospital_data.append(hosp)\n",
    "    \n",
    "    \n",
    "    "
   ]
  },
  {
   "cell_type": "code",
   "execution_count": 5,
   "id": "b50f0275",
   "metadata": {},
   "outputs": [
    {
     "data": {
      "text/plain": [
       "[Hospital(name='Medica', address=None, district='Ranchi', city='Ranchi', state='Jharkhand', location='', last_updated='2021-05-02 01:47:34', resources=[Resource(resource_type=<ResourceType.BED_WITHOUT_OXYGEN: 'BED_WITHOUT_OXYGEN'>, resource_description=None, resource_qty='0'), Resource(resource_type=<ResourceType.BED_WITH_OXYGEN: 'BED_WITH_OXYGEN'>, resource_description=None, resource_qty='0'), Resource(resource_type=<ResourceType.TOTAL_ICUS: 'TOTAL_ICUS'>, resource_description=None, resource_qty='0')]),\n",
       " Hospital(name='Alam Hospital Bariyatu', address=None, district='Ranchi', city='Ranchi', state='Jharkhand', location='', last_updated='2021-05-02 01:32:12', resources=[Resource(resource_type=<ResourceType.BED_WITHOUT_OXYGEN: 'BED_WITHOUT_OXYGEN'>, resource_description=None, resource_qty='0'), Resource(resource_type=<ResourceType.BED_WITH_OXYGEN: 'BED_WITH_OXYGEN'>, resource_description=None, resource_qty='0'), Resource(resource_type=<ResourceType.TOTAL_ICUS: 'TOTAL_ICUS'>, resource_description=None, resource_qty='0')]),\n",
       " Hospital(name='Samford Kokar', address=None, district='Ranchi', city='Ranchi', state='Jharkhand', location='', last_updated='2021-05-02 01:41:00', resources=[Resource(resource_type=<ResourceType.BED_WITHOUT_OXYGEN: 'BED_WITHOUT_OXYGEN'>, resource_description=None, resource_qty='0'), Resource(resource_type=<ResourceType.BED_WITH_OXYGEN: 'BED_WITH_OXYGEN'>, resource_description=None, resource_qty='0'), Resource(resource_type=<ResourceType.TOTAL_ICUS: 'TOTAL_ICUS'>, resource_description=None, resource_qty='0')]),\n",
       " Hospital(name='Health Point, Bariyatu', address=None, district='Ranchi', city='Ranchi', state='Jharkhand', location='', last_updated='2021-05-02 01:31:59', resources=[Resource(resource_type=<ResourceType.BED_WITHOUT_OXYGEN: 'BED_WITHOUT_OXYGEN'>, resource_description=None, resource_qty='0'), Resource(resource_type=<ResourceType.BED_WITH_OXYGEN: 'BED_WITH_OXYGEN'>, resource_description=None, resource_qty='0'), Resource(resource_type=<ResourceType.TOTAL_ICUS: 'TOTAL_ICUS'>, resource_description=None, resource_qty='0')]),\n",
       " Hospital(name='Gulmohar Hospital, Booty More, Ranchi', address=None, district='Ranchi', city='Ranchi', state='Jharkhand', location='', last_updated='2021-05-02 01:41:22', resources=[Resource(resource_type=<ResourceType.BED_WITHOUT_OXYGEN: 'BED_WITHOUT_OXYGEN'>, resource_description=None, resource_qty='15'), Resource(resource_type=<ResourceType.BED_WITH_OXYGEN: 'BED_WITH_OXYGEN'>, resource_description=None, resource_qty='0'), Resource(resource_type=<ResourceType.TOTAL_ICUS: 'TOTAL_ICUS'>, resource_description=None, resource_qty='0')]),\n",
       " Hospital(name='Pulse Hospital, Bariatu', address=None, district='Ranchi', city='Ranchi', state='Jharkhand', location='', last_updated='2021-05-02 01:41:24', resources=[Resource(resource_type=<ResourceType.BED_WITHOUT_OXYGEN: 'BED_WITHOUT_OXYGEN'>, resource_description=None, resource_qty='0'), Resource(resource_type=<ResourceType.BED_WITH_OXYGEN: 'BED_WITH_OXYGEN'>, resource_description=None, resource_qty='0'), Resource(resource_type=<ResourceType.TOTAL_ICUS: 'TOTAL_ICUS'>, resource_description=None, resource_qty='0')]),\n",
       " Hospital(name='Anjuman Islamia Hospital, Konka Road Ranchi', address=None, district='Ranchi', city='Ranchi', state='Jharkhand', location='', last_updated='2021-05-02 01:41:26', resources=[Resource(resource_type=<ResourceType.BED_WITHOUT_OXYGEN: 'BED_WITHOUT_OXYGEN'>, resource_description=None, resource_qty='0'), Resource(resource_type=<ResourceType.BED_WITH_OXYGEN: 'BED_WITH_OXYGEN'>, resource_description=None, resource_qty='0'), Resource(resource_type=<ResourceType.TOTAL_ICUS: 'TOTAL_ICUS'>, resource_description=None, resource_qty='0')]),\n",
       " Hospital(name='Raj Hospital, Main Road', address=None, district='Ranchi', city='Ranchi', state='Jharkhand', location='', last_updated='2021-05-02 01:41:28', resources=[Resource(resource_type=<ResourceType.BED_WITHOUT_OXYGEN: 'BED_WITHOUT_OXYGEN'>, resource_description=None, resource_qty='0'), Resource(resource_type=<ResourceType.BED_WITH_OXYGEN: 'BED_WITH_OXYGEN'>, resource_description=None, resource_qty='0'), Resource(resource_type=<ResourceType.TOTAL_ICUS: 'TOTAL_ICUS'>, resource_description=None, resource_qty='0')]),\n",
       " Hospital(name='Gurunanak Hospital, Station Road, Ranchi', address=None, district='Ranchi', city='Ranchi', state='Jharkhand', location='', last_updated='2021-05-02 01:41:29', resources=[Resource(resource_type=<ResourceType.BED_WITHOUT_OXYGEN: 'BED_WITHOUT_OXYGEN'>, resource_description=None, resource_qty='0'), Resource(resource_type=<ResourceType.BED_WITH_OXYGEN: 'BED_WITH_OXYGEN'>, resource_description=None, resource_qty='0'), Resource(resource_type=<ResourceType.TOTAL_ICUS: 'TOTAL_ICUS'>, resource_description=None, resource_qty='0')]),\n",
       " Hospital(name='Orchid, HB Road, Near Lalpur, Ranchi', address=None, district='Ranchi', city='Ranchi', state='Jharkhand', location='', last_updated='2021-05-02 01:41:32', resources=[Resource(resource_type=<ResourceType.BED_WITHOUT_OXYGEN: 'BED_WITHOUT_OXYGEN'>, resource_description=None, resource_qty='0'), Resource(resource_type=<ResourceType.BED_WITH_OXYGEN: 'BED_WITH_OXYGEN'>, resource_description=None, resource_qty='0'), Resource(resource_type=<ResourceType.TOTAL_ICUS: 'TOTAL_ICUS'>, resource_description=None, resource_qty='0')]),\n",
       " Hospital(name='Sewa Sadan', address=None, district='Ranchi', city='Ranchi', state='Jharkhand', location='', last_updated='2021-05-02 01:41:33', resources=[Resource(resource_type=<ResourceType.BED_WITHOUT_OXYGEN: 'BED_WITHOUT_OXYGEN'>, resource_description=None, resource_qty='20'), Resource(resource_type=<ResourceType.BED_WITH_OXYGEN: 'BED_WITH_OXYGEN'>, resource_description=None, resource_qty='0'), Resource(resource_type=<ResourceType.TOTAL_ICUS: 'TOTAL_ICUS'>, resource_description=None, resource_qty='0')]),\n",
       " Hospital(name='Santevita Hospital, HB Road, Near Firayalal Ranchi', address=None, district='Ranchi', city='Ranchi', state='Jharkhand', location='', last_updated='2021-05-02 01:41:58', resources=[Resource(resource_type=<ResourceType.BED_WITHOUT_OXYGEN: 'BED_WITHOUT_OXYGEN'>, resource_description=None, resource_qty='0'), Resource(resource_type=<ResourceType.BED_WITH_OXYGEN: 'BED_WITH_OXYGEN'>, resource_description=None, resource_qty='0'), Resource(resource_type=<ResourceType.TOTAL_ICUS: 'TOTAL_ICUS'>, resource_description=None, resource_qty='0')]),\n",
       " Hospital(name='Rani Hospital, (Children Only)', address=None, district='Ranchi', city='Ranchi', state='Jharkhand', location='', last_updated='2021-05-02 01:42:00', resources=[Resource(resource_type=<ResourceType.BED_WITHOUT_OXYGEN: 'BED_WITHOUT_OXYGEN'>, resource_description=None, resource_qty='0'), Resource(resource_type=<ResourceType.BED_WITH_OXYGEN: 'BED_WITH_OXYGEN'>, resource_description=None, resource_qty='6'), Resource(resource_type=<ResourceType.TOTAL_ICUS: 'TOTAL_ICUS'>, resource_description=None, resource_qty='14')]),\n",
       " Hospital(name='Ram Pyari Super Speciality Hospital, Karmtoli', address=None, district='Ranchi', city='Ranchi', state='Jharkhand', location='', last_updated='2021-05-02 01:42:02', resources=[Resource(resource_type=<ResourceType.BED_WITHOUT_OXYGEN: 'BED_WITHOUT_OXYGEN'>, resource_description=None, resource_qty='0'), Resource(resource_type=<ResourceType.BED_WITH_OXYGEN: 'BED_WITH_OXYGEN'>, resource_description=None, resource_qty='0'), Resource(resource_type=<ResourceType.TOTAL_ICUS: 'TOTAL_ICUS'>, resource_description=None, resource_qty='0')]),\n",
       " Hospital(name='Medanta, IRBA Ormanjhi', address=None, district='Ranchi', city='Ranchi', state='Jharkhand', location='', last_updated='2021-05-02 01:42:04', resources=[Resource(resource_type=<ResourceType.BED_WITHOUT_OXYGEN: 'BED_WITHOUT_OXYGEN'>, resource_description=None, resource_qty='4'), Resource(resource_type=<ResourceType.BED_WITH_OXYGEN: 'BED_WITH_OXYGEN'>, resource_description=None, resource_qty='0'), Resource(resource_type=<ResourceType.TOTAL_ICUS: 'TOTAL_ICUS'>, resource_description=None, resource_qty='0')]),\n",
       " Hospital(name='Summer Hospital, Singh More', address=None, district='Ranchi', city='Ranchi', state='Jharkhand', location='', last_updated='2021-05-02 01:42:06', resources=[Resource(resource_type=<ResourceType.BED_WITHOUT_OXYGEN: 'BED_WITHOUT_OXYGEN'>, resource_description=None, resource_qty='4'), Resource(resource_type=<ResourceType.BED_WITH_OXYGEN: 'BED_WITH_OXYGEN'>, resource_description=None, resource_qty='0'), Resource(resource_type=<ResourceType.TOTAL_ICUS: 'TOTAL_ICUS'>, resource_description=None, resource_qty='0')]),\n",
       " Hospital(name='Devkamal Hospital', address=None, district='Ranchi', city='Ranchi', state='Jharkhand', location='', last_updated='2021-05-02 01:42:08', resources=[Resource(resource_type=<ResourceType.BED_WITHOUT_OXYGEN: 'BED_WITHOUT_OXYGEN'>, resource_description=None, resource_qty='0'), Resource(resource_type=<ResourceType.BED_WITH_OXYGEN: 'BED_WITH_OXYGEN'>, resource_description=None, resource_qty='0'), Resource(resource_type=<ResourceType.TOTAL_ICUS: 'TOTAL_ICUS'>, resource_description=None, resource_qty='0')]),\n",
       " Hospital(name='Rinchi Trust Hospital, ITKI Road, Kathal More, Ranchi', address=None, district='Ranchi', city='Ranchi', state='Jharkhand', location='', last_updated='2021-05-02 01:42:10', resources=[Resource(resource_type=<ResourceType.BED_WITHOUT_OXYGEN: 'BED_WITHOUT_OXYGEN'>, resource_description=None, resource_qty='0'), Resource(resource_type=<ResourceType.BED_WITH_OXYGEN: 'BED_WITH_OXYGEN'>, resource_description=None, resource_qty='0'), Resource(resource_type=<ResourceType.TOTAL_ICUS: 'TOTAL_ICUS'>, resource_description=None, resource_qty='0')]),\n",
       " Hospital(name='The 7 Palm Hospital', address=None, district='Ranchi', city='Ranchi', state='Jharkhand', location='', last_updated='2021-05-02 01:42:13', resources=[Resource(resource_type=<ResourceType.BED_WITHOUT_OXYGEN: 'BED_WITHOUT_OXYGEN'>, resource_description=None, resource_qty='0'), Resource(resource_type=<ResourceType.BED_WITH_OXYGEN: 'BED_WITH_OXYGEN'>, resource_description=None, resource_qty='0'), Resource(resource_type=<ResourceType.TOTAL_ICUS: 'TOTAL_ICUS'>, resource_description=None, resource_qty='0')]),\n",
       " Hospital(name='Paras Hospital', address=None, district='Ranchi', city='Ranchi', state='Jharkhand', location='', last_updated='2021-05-02 01:42:15', resources=[Resource(resource_type=<ResourceType.BED_WITHOUT_OXYGEN: 'BED_WITHOUT_OXYGEN'>, resource_description=None, resource_qty='0'), Resource(resource_type=<ResourceType.BED_WITH_OXYGEN: 'BED_WITH_OXYGEN'>, resource_description=None, resource_qty='0'), Resource(resource_type=<ResourceType.TOTAL_ICUS: 'TOTAL_ICUS'>, resource_description=None, resource_qty='0')]),\n",
       " Hospital(name='RPS Hospital', address=None, district='Ranchi', city='Ranchi', state='Jharkhand', location='', last_updated='2021-05-02 01:42:17', resources=[Resource(resource_type=<ResourceType.BED_WITHOUT_OXYGEN: 'BED_WITHOUT_OXYGEN'>, resource_description=None, resource_qty='6'), Resource(resource_type=<ResourceType.BED_WITH_OXYGEN: 'BED_WITH_OXYGEN'>, resource_description=None, resource_qty='0'), Resource(resource_type=<ResourceType.TOTAL_ICUS: 'TOTAL_ICUS'>, resource_description=None, resource_qty='0')]),\n",
       " Hospital(name='Prabhawati Hospital', address=None, district='Ranchi', city='Ranchi', state='Jharkhand', location='', last_updated='2021-05-02 01:42:19', resources=[Resource(resource_type=<ResourceType.BED_WITHOUT_OXYGEN: 'BED_WITHOUT_OXYGEN'>, resource_description=None, resource_qty='0'), Resource(resource_type=<ResourceType.BED_WITH_OXYGEN: 'BED_WITH_OXYGEN'>, resource_description=None, resource_qty='0'), Resource(resource_type=<ResourceType.TOTAL_ICUS: 'TOTAL_ICUS'>, resource_description=None, resource_qty='0')]),\n",
       " Hospital(name='Kanke General Hospital', address=None, district='Ranchi', city='Ranchi', state='Jharkhand', location='', last_updated='2021-05-02 01:42:44', resources=[Resource(resource_type=<ResourceType.BED_WITHOUT_OXYGEN: 'BED_WITHOUT_OXYGEN'>, resource_description=None, resource_qty='0'), Resource(resource_type=<ResourceType.BED_WITH_OXYGEN: 'BED_WITH_OXYGEN'>, resource_description=None, resource_qty='0'), Resource(resource_type=<ResourceType.TOTAL_ICUS: 'TOTAL_ICUS'>, resource_description=None, resource_qty='0')]),\n",
       " Hospital(name='SAI Hospital', address=None, district='Ranchi', city='Ranchi', state='Jharkhand', location='', last_updated='2021-05-02 01:42:46', resources=[Resource(resource_type=<ResourceType.BED_WITHOUT_OXYGEN: 'BED_WITHOUT_OXYGEN'>, resource_description=None, resource_qty='0'), Resource(resource_type=<ResourceType.BED_WITH_OXYGEN: 'BED_WITH_OXYGEN'>, resource_description=None, resource_qty='0'), Resource(resource_type=<ResourceType.TOTAL_ICUS: 'TOTAL_ICUS'>, resource_description=None, resource_qty='0')]),\n",
       " Hospital(name='ACMS Hospital', address=None, district='Ranchi', city='Ranchi', state='Jharkhand', location='', last_updated='2021-05-02 01:42:47', resources=[Resource(resource_type=<ResourceType.BED_WITHOUT_OXYGEN: 'BED_WITHOUT_OXYGEN'>, resource_description=None, resource_qty='27'), Resource(resource_type=<ResourceType.BED_WITH_OXYGEN: 'BED_WITH_OXYGEN'>, resource_description=None, resource_qty='0'), Resource(resource_type=<ResourceType.TOTAL_ICUS: 'TOTAL_ICUS'>, resource_description=None, resource_qty='0')]),\n",
       " Hospital(name='Jaslok Hospital', address=None, district='Ranchi', city='Ranchi', state='Jharkhand', location='', last_updated='2021-05-02 01:42:49', resources=[Resource(resource_type=<ResourceType.BED_WITHOUT_OXYGEN: 'BED_WITHOUT_OXYGEN'>, resource_description=None, resource_qty='0'), Resource(resource_type=<ResourceType.BED_WITH_OXYGEN: 'BED_WITH_OXYGEN'>, resource_description=None, resource_qty='0'), Resource(resource_type=<ResourceType.TOTAL_ICUS: 'TOTAL_ICUS'>, resource_description=None, resource_qty='0')]),\n",
       " Hospital(name='Dwarka Hospital', address=None, district='Ranchi', city='Ranchi', state='Jharkhand', location='', last_updated='2021-05-02 01:42:50', resources=[Resource(resource_type=<ResourceType.BED_WITHOUT_OXYGEN: 'BED_WITHOUT_OXYGEN'>, resource_description=None, resource_qty='0'), Resource(resource_type=<ResourceType.BED_WITH_OXYGEN: 'BED_WITH_OXYGEN'>, resource_description=None, resource_qty='0'), Resource(resource_type=<ResourceType.TOTAL_ICUS: 'TOTAL_ICUS'>, resource_description=None, resource_qty='0')]),\n",
       " Hospital(name='RIMS', address=None, district='Ranchi', city='Ranchi', state='Jharkhand', location='', last_updated='2021-05-02 01:42:52', resources=[Resource(resource_type=<ResourceType.BED_WITHOUT_OXYGEN: 'BED_WITHOUT_OXYGEN'>, resource_description=None, resource_qty='0'), Resource(resource_type=<ResourceType.BED_WITH_OXYGEN: 'BED_WITH_OXYGEN'>, resource_description=None, resource_qty='0'), Resource(resource_type=<ResourceType.TOTAL_ICUS: 'TOTAL_ICUS'>, resource_description=None, resource_qty='0')]),\n",
       " Hospital(name='SADAR', address=None, district='Ranchi', city='Ranchi', state='Jharkhand', location='', last_updated='2021-05-02 01:42:53', resources=[Resource(resource_type=<ResourceType.BED_WITHOUT_OXYGEN: 'BED_WITHOUT_OXYGEN'>, resource_description=None, resource_qty='30'), Resource(resource_type=<ResourceType.BED_WITH_OXYGEN: 'BED_WITH_OXYGEN'>, resource_description=None, resource_qty='7'), Resource(resource_type=<ResourceType.TOTAL_ICUS: 'TOTAL_ICUS'>, resource_description=None, resource_qty='0')]),\n",
       " Hospital(name='CCL', address=None, district='Ranchi', city='Ranchi', state='Jharkhand', location='', last_updated='2021-05-02 01:42:55', resources=[Resource(resource_type=<ResourceType.BED_WITHOUT_OXYGEN: 'BED_WITHOUT_OXYGEN'>, resource_description=None, resource_qty='20'), Resource(resource_type=<ResourceType.BED_WITH_OXYGEN: 'BED_WITH_OXYGEN'>, resource_description=None, resource_qty='0'), Resource(resource_type=<ResourceType.TOTAL_ICUS: 'TOTAL_ICUS'>, resource_description=None, resource_qty='0')]),\n",
       " Hospital(name='All CHCs', address=None, district='Ranchi', city='Ranchi', state='Jharkhand', location='', last_updated='2021-05-02 01:48:32', resources=[Resource(resource_type=<ResourceType.BED_WITHOUT_OXYGEN: 'BED_WITHOUT_OXYGEN'>, resource_description=None, resource_qty='140'), Resource(resource_type=<ResourceType.BED_WITH_OXYGEN: 'BED_WITH_OXYGEN'>, resource_description=None, resource_qty='0'), Resource(resource_type=<ResourceType.TOTAL_ICUS: 'TOTAL_ICUS'>, resource_description=None, resource_qty='0')]),\n",
       " Hospital(name='CCC Khelgaon', address=None, district='Ranchi', city='Ranchi', state='Jharkhand', location='', last_updated='2021-05-02 01:40:15', resources=[Resource(resource_type=<ResourceType.BED_WITHOUT_OXYGEN: 'BED_WITHOUT_OXYGEN'>, resource_description=None, resource_qty='704'), Resource(resource_type=<ResourceType.BED_WITH_OXYGEN: 'BED_WITH_OXYGEN'>, resource_description=None, resource_qty='0'), Resource(resource_type=<ResourceType.TOTAL_ICUS: 'TOTAL_ICUS'>, resource_description=None, resource_qty='0')]),\n",
       " Hospital(name='MDLM', address=None, district='Ranchi', city='Ranchi', state='Jharkhand', location='', last_updated='2021-05-02 01:40:13', resources=[Resource(resource_type=<ResourceType.BED_WITHOUT_OXYGEN: 'BED_WITHOUT_OXYGEN'>, resource_description=None, resource_qty='0'), Resource(resource_type=<ResourceType.BED_WITH_OXYGEN: 'BED_WITH_OXYGEN'>, resource_description=None, resource_qty='0'), Resource(resource_type=<ResourceType.TOTAL_ICUS: 'TOTAL_ICUS'>, resource_description=None, resource_qty='0')]),\n",
       " Hospital(name='City Trust Hospital', address=None, district='Ranchi', city='Ranchi', state='Jharkhand', location='', last_updated='2021-05-02 01:40:11', resources=[Resource(resource_type=<ResourceType.BED_WITHOUT_OXYGEN: 'BED_WITHOUT_OXYGEN'>, resource_description=None, resource_qty='0'), Resource(resource_type=<ResourceType.BED_WITH_OXYGEN: 'BED_WITH_OXYGEN'>, resource_description=None, resource_qty='0'), Resource(resource_type=<ResourceType.TOTAL_ICUS: 'TOTAL_ICUS'>, resource_description=None, resource_qty='0')]),\n",
       " Hospital(name='Life Care', address=None, district='Ranchi', city='Ranchi', state='Jharkhand', location='', last_updated='2021-05-02 01:40:08', resources=[Resource(resource_type=<ResourceType.BED_WITHOUT_OXYGEN: 'BED_WITHOUT_OXYGEN'>, resource_description=None, resource_qty='6'), Resource(resource_type=<ResourceType.BED_WITH_OXYGEN: 'BED_WITH_OXYGEN'>, resource_description=None, resource_qty='0'), Resource(resource_type=<ResourceType.TOTAL_ICUS: 'TOTAL_ICUS'>, resource_description=None, resource_qty='0')]),\n",
       " Hospital(name='Lake view', address=None, district='Ranchi', city='Ranchi', state='Jharkhand', location='', last_updated='2021-05-02 01:40:06', resources=[Resource(resource_type=<ResourceType.BED_WITHOUT_OXYGEN: 'BED_WITHOUT_OXYGEN'>, resource_description=None, resource_qty='0'), Resource(resource_type=<ResourceType.BED_WITH_OXYGEN: 'BED_WITH_OXYGEN'>, resource_description=None, resource_qty='0'), Resource(resource_type=<ResourceType.TOTAL_ICUS: 'TOTAL_ICUS'>, resource_description=None, resource_qty='0')]),\n",
       " Hospital(name='7th Day Adventist', address=None, district='Ranchi', city='Ranchi', state='Jharkhand', location='', last_updated='2021-05-02 01:40:04', resources=[Resource(resource_type=<ResourceType.BED_WITHOUT_OXYGEN: 'BED_WITHOUT_OXYGEN'>, resource_description=None, resource_qty='3'), Resource(resource_type=<ResourceType.BED_WITH_OXYGEN: 'BED_WITH_OXYGEN'>, resource_description=None, resource_qty='0'), Resource(resource_type=<ResourceType.TOTAL_ICUS: 'TOTAL_ICUS'>, resource_description=None, resource_qty='0')]),\n",
       " Hospital(name='Jagarnath', address=None, district='Ranchi', city='Ranchi', state='Jharkhand', location='', last_updated='2021-05-02 01:40:01', resources=[Resource(resource_type=<ResourceType.BED_WITHOUT_OXYGEN: 'BED_WITHOUT_OXYGEN'>, resource_description=None, resource_qty='3'), Resource(resource_type=<ResourceType.BED_WITH_OXYGEN: 'BED_WITH_OXYGEN'>, resource_description=None, resource_qty='0'), Resource(resource_type=<ResourceType.TOTAL_ICUS: 'TOTAL_ICUS'>, resource_description=None, resource_qty='0')]),\n",
       " Hospital(name='St. Barnabas', address=None, district='Ranchi', city='Ranchi', state='Jharkhand', location='', last_updated='2021-05-02 01:39:58', resources=[Resource(resource_type=<ResourceType.BED_WITHOUT_OXYGEN: 'BED_WITHOUT_OXYGEN'>, resource_description=None, resource_qty='2'), Resource(resource_type=<ResourceType.BED_WITH_OXYGEN: 'BED_WITH_OXYGEN'>, resource_description=None, resource_qty='0'), Resource(resource_type=<ResourceType.TOTAL_ICUS: 'TOTAL_ICUS'>, resource_description=None, resource_qty='0')]),\n",
       " Hospital(name='Belin Nursing Home', address=None, district='Ranchi', city='Ranchi', state='Jharkhand', location='', last_updated='2021-05-02 01:39:55', resources=[Resource(resource_type=<ResourceType.BED_WITHOUT_OXYGEN: 'BED_WITHOUT_OXYGEN'>, resource_description=None, resource_qty='0'), Resource(resource_type=<ResourceType.BED_WITH_OXYGEN: 'BED_WITH_OXYGEN'>, resource_description=None, resource_qty='0'), Resource(resource_type=<ResourceType.TOTAL_ICUS: 'TOTAL_ICUS'>, resource_description=None, resource_qty='0')]),\n",
       " Hospital(name='Singhpur Nursing', address=None, district='Ranchi', city='Ranchi', state='Jharkhand', location='', last_updated='2021-05-02 01:39:53', resources=[Resource(resource_type=<ResourceType.BED_WITHOUT_OXYGEN: 'BED_WITHOUT_OXYGEN'>, resource_description=None, resource_qty='0'), Resource(resource_type=<ResourceType.BED_WITH_OXYGEN: 'BED_WITH_OXYGEN'>, resource_description=None, resource_qty='0'), Resource(resource_type=<ResourceType.TOTAL_ICUS: 'TOTAL_ICUS'>, resource_description=None, resource_qty='0')]),\n",
       " Hospital(name='Military Hospital, Namkum', address=None, district='Ranchi', city='Ranchi', state='Jharkhand', location='', last_updated='2021-05-02 01:39:39', resources=[Resource(resource_type=<ResourceType.BED_WITHOUT_OXYGEN: 'BED_WITHOUT_OXYGEN'>, resource_description=None, resource_qty='0'), Resource(resource_type=<ResourceType.BED_WITH_OXYGEN: 'BED_WITH_OXYGEN'>, resource_description=None, resource_qty='11'), Resource(resource_type=<ResourceType.TOTAL_ICUS: 'TOTAL_ICUS'>, resource_description=None, resource_qty='0')]),\n",
       " Hospital(name='Resaldar baba, Doranda', address=None, district='Ranchi', city='Ranchi', state='Jharkhand', location='', last_updated='2021-05-02 01:39:34', resources=[Resource(resource_type=<ResourceType.BED_WITHOUT_OXYGEN: 'BED_WITHOUT_OXYGEN'>, resource_description=None, resource_qty='0'), Resource(resource_type=<ResourceType.BED_WITH_OXYGEN: 'BED_WITH_OXYGEN'>, resource_description=None, resource_qty='0'), Resource(resource_type=<ResourceType.TOTAL_ICUS: 'TOTAL_ICUS'>, resource_description=None, resource_qty='0')]),\n",
       " Hospital(name='Promise Healthcare', address=None, district='Ranchi', city='Ranchi', state='Jharkhand', location='', last_updated='2021-05-02 01:39:29', resources=[Resource(resource_type=<ResourceType.BED_WITHOUT_OXYGEN: 'BED_WITHOUT_OXYGEN'>, resource_description=None, resource_qty='0'), Resource(resource_type=<ResourceType.BED_WITH_OXYGEN: 'BED_WITH_OXYGEN'>, resource_description=None, resource_qty='0'), Resource(resource_type=<ResourceType.TOTAL_ICUS: 'TOTAL_ICUS'>, resource_description=None, resource_qty='0')])]"
      ]
     },
     "execution_count": 5,
     "metadata": {},
     "output_type": "execute_result"
    }
   ],
   "source": [
    "hospital_data"
   ]
  }
 ],
 "metadata": {
  "kernelspec": {
   "display_name": "Python 3",
   "language": "python",
   "name": "python3"
  },
  "language_info": {
   "codemirror_mode": {
    "name": "ipython",
    "version": 3
   },
   "file_extension": ".py",
   "mimetype": "text/x-python",
   "name": "python",
   "nbconvert_exporter": "python",
   "pygments_lexer": "ipython3",
   "version": "3.9.4"
  }
 },
 "nbformat": 4,
 "nbformat_minor": 5
}
