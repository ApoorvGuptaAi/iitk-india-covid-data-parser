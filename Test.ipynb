{
 "cells": [
  {
   "cell_type": "code",
   "execution_count": 31,
   "metadata": {},
   "outputs": [],
   "source": [
    "import requests\n",
    "import numpy as np\n",
    "import pandas as pd\n",
    "from bs4 import BeautifulSoup\n",
    "import datetime\n",
    "from dataclasses import dataclass\n",
    "import dateutil\n",
    "import re\n",
    "\n",
    "@dataclass\n",
    "class Hospital:\n",
    "  name: str\n",
    "  address: str\n",
    "  district: str\n",
    "  state: str\n",
    "  beds_text: str\n",
    "  location: str\n",
    "  total_beds: int\n",
    "  isolation_beds: int\n",
    "  icu_beds: int\n",
    "  ventilator: int\n",
    "  last_updated: datetime.datetime\n",
    "    \n",
    "class PersonEncoder(json.JSONEncoder):\n",
    "    def default(self, obj):\n",
    "        if isinstance(obj, Hospital):\n",
    "            return obj.__dict__\n",
    "        # Base class default() raises TypeError:\n",
    "        return json.JSONEncoder.default(self, obj)\n",
    "\n",
    "def get_updated_timestamp(updated_text):\n",
    "  return dateutil.parser.parse(updated_text[len('Updated On: '):])\n",
    "\n",
    "def parse_hospital(hospital_div, district):\n",
    "  entry_div = hospital_div.find('div', {'class' : 'entry-content'})\n",
    "  headings = entry_div.find_all('h6')\n",
    "  name = headings[0].string\n",
    "  address = headings[0].attrs['title']\n",
    "  beds_div = entry_div.find('p')\n",
    "  beds_text = ''\n",
    "  if beds_div:\n",
    "    beds_text = beds_div.text\n",
    "  else:\n",
    "    print(entry_div)\n",
    "  meta_info_div = hospital_div.find_all('li')\n",
    "  updated_at = meta_info_div[0].string\n",
    "  location = meta_info_div[1].find('a').attrs['onclick']\n",
    "  hospital = Hospital(name, address, district, 'Haryana', beds_text, location, 0, 0, 0, 0, get_updated_timestamp(updated_at))\n",
    "  hospital.name = hospital.name[len('Facility Name: '):].strip()\n",
    "  hospital.beds_text = hospital.beds_text.replace('Beds Over Utilized ', '-')\n",
    "  numbers = re.findall('-?(?:\\d+,?)+', hospital.beds_text)\n",
    "  hospital.total_beds = numbers[0]\n",
    "  hospital.isolation_beds = numbers[1]\n",
    "  hospital.icu_beds = numbers[2]\n",
    "  hospital.ventilator = numbers[3]\n",
    "  return hospital\n",
    "\n",
    "def get_hospital_list(district_name, district_index):\n",
    "  hospital_list = []\n",
    "  district_url = 'https://coronaharyana.in/?city=' + str(district_index)\n",
    "  district_response = requests.get(district_url)\n",
    "  district_soup = BeautifulSoup(district_response.text, 'html.parser')\n",
    "  hospitals_div = district_soup.find('div', {'id': 'tab0'}).find_all('div', {'class': 'community-post'})\n",
    "  for hospital_div in hospitals_div:\n",
    "    hospital_list.append(parse_hospital(hospital_div, district_name))\n",
    "  return hospital_list\n",
    "\n",
    "def get_haryana_hospitals():\n",
    "  all_hospitals = []\n",
    "  haryana_districts = {\"Ambala\":1,\"Bhiwani\":2,\"Chandigarh\":24,\"Charki Dadri\":3,\"Faridabad\":4,\"Fatehabad\":5,\"Gurugram\":6,\"Hisar\":7,\"Jhajjar\":8,\"Jind\":9,\"Kaithal\":10,\"Karnal\":11,\"Kurukshetra\":12,\"Mahendragarh\":13,\"Nuh\":23,\"Palwal\":15,\"Panchkula\":16,\"Panipat\":17,\"Rewari\":18,\"Rohtak\":19,\"Sirsa\":20,\"Sonipat\":21,\"Yamunanagar\":22}\n",
    "  for district in haryana_districts.items():\n",
    "    district_hospitals = get_hospital_list(district[0], district[1])\n",
    "    all_hospitals.extend(district_hospitals)\n",
    "    break\n",
    "  return all_hospitals\n",
    "\n",
    "\n",
    "def lambda_handler(event, context):\n",
    "    print('debug')\n",
    "    all_hospitals = get_haryana_hospitals()\n",
    "    # TODO implement\n",
    "    return json.dumps({\"hospitals\":all_hospitals}, cls=PersonEncoder)"
   ]
  },
  {
   "cell_type": "code",
   "execution_count": 27,
   "metadata": {},
   "outputs": [],
   "source": [
    "hospitals = get_haryana_hospitals()"
   ]
  },
  {
   "cell_type": "code",
   "execution_count": 35,
   "metadata": {},
   "outputs": [],
   "source": [
    "hospitals2 = [h.__dict__ for h in hospitals]"
   ]
  },
  {
   "cell_type": "code",
   "execution_count": 37,
   "metadata": {},
   "outputs": [],
   "source": [
    "def default(o):\n",
    "    if isinstance(o, (datetime.date, datetime.datetime)):\n",
    "        return o.isoformat()\n"
   ]
  },
  {
   "cell_type": "code",
   "execution_count": 38,
   "metadata": {},
   "outputs": [
    {
     "data": {
      "text/plain": [
       "'[{\"name\": \"CHC Brara\", \"address\": \"Brara\", \"district\": \"Ambala\", \"state\": \"Haryana\", \"beds_text\": \"Availability of Beds: No (0), Isolation Beds: 0,\\\\nICU Beds: 0,\\\\nVentilators: 0\\\\n\\\\n\", \"location\": \"showLocation(\\'30.20572\\',\\'77.043594\\',\\'CHC Brara\\');\", \"total_beds\": \"0\", \"isolation_beds\": \"0,\", \"icu_beds\": \"0,\", \"ventilator\": \"0\", \"last_updated\": \"2021-05-02T08:17:00\"}, {\"name\": \"CHC Chaurmastpur\", \"address\": \"Chaurmastpur\", \"district\": \"Ambala\", \"state\": \"Haryana\", \"beds_text\": \"Availability of Beds: No (0), Isolation Beds: 0,\\\\nICU Beds: 0,\\\\nVentilators: 0\\\\n\\\\n\", \"location\": \"showLocation(\\'30.28096\\',\\'76.696092\\',\\'CHC Chaurmastpur\\');\", \"total_beds\": \"0\", \"isolation_beds\": \"0,\", \"icu_beds\": \"0,\", \"ventilator\": \"0\", \"last_updated\": \"2021-05-02T08:18:00\"}, {\"name\": \"CHC Mullana\", \"address\": \"Village Mullana, Ambala\", \"district\": \"Ambala\", \"state\": \"Haryana\", \"beds_text\": \"Availability of Beds: No (0), Isolation Beds: 0,\\\\nICU Beds: 0,\\\\nVentilators: 0\\\\n\\\\n\", \"location\": \"showLocation(\\'30.271511\\',\\'77.054506\\',\\'CHC Mullana\\');\", \"total_beds\": \"0\", \"isolation_beds\": \"0,\", \"icu_beds\": \"0,\", \"ventilator\": \"0\", \"last_updated\": \"2021-05-02T08:21:00\"}, {\"name\": \"District Civil Hospital\", \"address\": \"Ambala City\", \"district\": \"Ambala\", \"state\": \"Haryana\", \"beds_text\": \"Availability of Beds: Yes (30), Isolation Beds: 20,\\\\nICU Beds: 10,\\\\nVentilators: 6\\\\n\\\\n\", \"location\": \"showLocation(\\'30.379285\\',\\'76.779574\\',\\'District Civil Hospital\\');\", \"total_beds\": \"30\", \"isolation_beds\": \"20,\", \"icu_beds\": \"10,\", \"ventilator\": \"6\", \"last_updated\": \"2021-04-30T11:47:00\"}, {\"name\": \"District Civil Hospital Ambala Cantt\", \"address\": \"Ambala Cantt\", \"district\": \"Ambala\", \"state\": \"Haryana\", \"beds_text\": \"Availability of Beds: Yes (12), Isolation Beds: 2,\\\\nICU Beds: 10,\\\\nVentilators: 5\\\\n\\\\n\", \"location\": \"showLocation(\\'30.385286\\',\\'76.780349\\',\\'District Civil Hospital Ambala Cantt\\');\", \"total_beds\": \"12\", \"isolation_beds\": \"2,\", \"icu_beds\": \"10,\", \"ventilator\": \"5\", \"last_updated\": \"2021-04-30T10:42:00\"}, {\"name\": \"Guardian Hospital\", \"address\": \"AMBALA JAGADHARI ROAD AMBALA CANTT\", \"district\": \"Ambala\", \"state\": \"Haryana\", \"beds_text\": \"Availability of Beds: Yes (1), Isolation Beds: 1,\\\\nICU Beds: -2,\\\\nVentilators: 2\\\\n\\\\n\", \"location\": \"showLocation(\\'30.3343\\',\\'76.8753\\',\\'Guardian Hospital\\');\", \"total_beds\": \"1\", \"isolation_beds\": \"1,\", \"icu_beds\": \"-2,\", \"ventilator\": \"2\", \"last_updated\": \"2021-05-01T09:31:00\"}, {\"name\": \"Mehandiratta Hospital\", \"address\": \"#106, manali house, near central jail, ambala city\", \"district\": \"Ambala\", \"state\": \"Haryana\", \"beds_text\": \"Availability of Beds: Yes (12), Isolation Beds: 10,\\\\nICU Beds: 2,\\\\nVentilators: 0\\\\n\\\\n\", \"location\": \"showLocation(\\'30.370719\\',\\'76.788047\\',\\'Mehandiratta Hospital\\');\", \"total_beds\": \"12\", \"isolation_beds\": \"10,\", \"icu_beds\": \"2,\", \"ventilator\": \"0\", \"last_updated\": \"2021-04-30T10:40:00\"}, {\"name\": \"Military Hospital\", \"address\": \"Ambala Cantonment\", \"district\": \"Ambala\", \"state\": \"Haryana\", \"beds_text\": \"Availability of Beds: Yes (6), Isolation Beds: -45,\\\\nICU Beds: 6,\\\\nVentilators: 3\\\\n\\\\n\", \"location\": \"showLocation(\\'30.353202\\',\\'76.834378\\',\\'Military Hospital\\');\", \"total_beds\": \"6\", \"isolation_beds\": \"-45,\", \"icu_beds\": \"6,\", \"ventilator\": \"3\", \"last_updated\": \"2021-05-02T08:15:00\"}, {\"name\": \"MM Medical College Pvt\", \"address\": \"MMIMSR Mullana Ambala\", \"district\": \"Ambala\", \"state\": \"Haryana\", \"beds_text\": \"Availability of Beds: Yes (140), Isolation Beds: 122,\\\\nICU Beds: 18,\\\\nVentilators: 14\\\\n\\\\n\", \"location\": \"showLocation(\\'30.252341\\',\\'77.049544\\',\\'MM Medical College Pvt\\');\", \"total_beds\": \"140\", \"isolation_beds\": \"122,\", \"icu_beds\": \"18,\", \"ventilator\": \"14\", \"last_updated\": \"2021-04-29T13:45:00\"}, {\"name\": \"Park Healing Touch Hospital\", \"address\": \"Sultanpur Chowk, Nr Dhulkot Barrier, Ambala Chandigarh Expy. Ambala\", \"district\": \"Ambala\", \"state\": \"Haryana\", \"beds_text\": \"Availability of Beds: No (0), Isolation Beds: 0,\\\\nICU Beds: 0,\\\\nVentilators: 0\\\\n\\\\n\", \"location\": \"showLocation(\\'30.401971\\',\\'76.786542\\',\\'Park Healing Touch Hospital\\');\", \"total_beds\": \"0\", \"isolation_beds\": \"0,\", \"icu_beds\": \"0,\", \"ventilator\": \"0\", \"last_updated\": \"2021-04-30T14:29:00\"}, {\"name\": \"Philedelphia mission Hospital pvt\", \"address\": \"Mission Compound, Ambala City\", \"district\": \"Ambala\", \"state\": \"Haryana\", \"beds_text\": \"Availability of Beds: Yes (9), Isolation Beds: 5,\\\\nICU Beds: 4,\\\\nVentilators: 2\\\\n\\\\n\", \"location\": \"showLocation(\\'30.382059\\',\\'76.782997\\',\\'Philedelphia mission Hospital pvt\\');\", \"total_beds\": \"9\", \"isolation_beds\": \"5,\", \"icu_beds\": \"4,\", \"ventilator\": \"2\", \"last_updated\": \"2021-04-30T11:41:00\"}, {\"name\": \"Railways Hospital\", \"address\": \"Railway Hospital, railway colony,  Ambala Cantt\", \"district\": \"Ambala\", \"state\": \"Haryana\", \"beds_text\": \"Availability of Beds: Yes (1), Isolation Beds: 0,\\\\nICU Beds: 1,\\\\nVentilators: 0\\\\n\\\\n\", \"location\": \"showLocation(\\'30.332226\\',\\'76.832873\\',\\'Railways Hospital\\');\", \"total_beds\": \"1\", \"isolation_beds\": \"0,\", \"icu_beds\": \"1,\", \"ventilator\": \"0\", \"last_updated\": \"2021-05-02T08:19:00\"}, {\"name\": \"Rotary Hospital Ambala cantt Pvt\", \"address\": \"Rambagh road, Opp Dusshera ground, Ambala Cantt\", \"district\": \"Ambala\", \"state\": \"Haryana\", \"beds_text\": \"Availability of Beds: Yes (16), Isolation Beds: 15,\\\\nICU Beds: 1,\\\\nVentilators: 1\\\\n\\\\n\", \"location\": \"showLocation(\\'30.3318\\',\\'76.847184\\',\\'Rotary Hospital Ambala cantt Pvt\\');\", \"total_beds\": \"16\", \"isolation_beds\": \"15,\", \"icu_beds\": \"1,\", \"ventilator\": \"1\", \"last_updated\": \"2021-04-30T19:32:00\"}, {\"name\": \"Sant Hospital\", \"address\": \"\", \"district\": \"Ambala\", \"state\": \"Haryana\", \"beds_text\": \"Availability of Beds: No (0), Isolation Beds: 0,\\\\nICU Beds: 0,\\\\nVentilators: 0\\\\n\\\\n\", \"location\": \"showLocation(\\'30.338161\\',\\'76.867919\\',\\'Sant Hospital\\');\", \"total_beds\": \"0\", \"isolation_beds\": \"0,\", \"icu_beds\": \"0,\", \"ventilator\": \"0\", \"last_updated\": \"2021-05-02T08:23:00\"}, {\"name\": \"Sub District Hospital\", \"address\": \"Naraingarh\", \"district\": \"Ambala\", \"state\": \"Haryana\", \"beds_text\": \"Availability of Beds: No (0), Isolation Beds: 0,\\\\nICU Beds: 0,\\\\nVentilators: 0\\\\n\\\\n\", \"location\": \"showLocation(\\'30.379016\\',\\'76.779885\\',\\'Sub District Hospital\\');\", \"total_beds\": \"0\", \"isolation_beds\": \"0,\", \"icu_beds\": \"0,\", \"ventilator\": \"0\", \"last_updated\": \"2021-05-02T08:17:00\"}]'"
      ]
     },
     "execution_count": 38,
     "metadata": {},
     "output_type": "execute_result"
    }
   ],
   "source": [
    "json.dumps(hospitals2, default=default)"
   ]
  },
  {
   "cell_type": "code",
   "execution_count": 39,
   "metadata": {},
   "outputs": [
    {
     "ename": "ModuleNotFoundError",
     "evalue": "No module named 'psycopg'",
     "output_type": "error",
     "traceback": [
      "\u001b[0;31m---------------------------------------------------------------------------\u001b[0m",
      "\u001b[0;31mModuleNotFoundError\u001b[0m                       Traceback (most recent call last)",
      "\u001b[0;32m<ipython-input-39-e143c29fc8bc>\u001b[0m in \u001b[0;36m<module>\u001b[0;34m\u001b[0m\n\u001b[0;32m----> 1\u001b[0;31m \u001b[0;32mimport\u001b[0m \u001b[0mpsycopg\u001b[0m\u001b[0;34m\u001b[0m\u001b[0;34m\u001b[0m\u001b[0m\n\u001b[0m",
      "\u001b[0;31mModuleNotFoundError\u001b[0m: No module named 'psycopg'"
     ]
    }
   ],
   "source": []
  }
 ],
 "metadata": {
  "kernelspec": {
   "display_name": "Python 3",
   "language": "python",
   "name": "python3"
  },
  "language_info": {
   "codemirror_mode": {
    "name": "ipython",
    "version": 3
   },
   "file_extension": ".py",
   "mimetype": "text/x-python",
   "name": "python",
   "nbconvert_exporter": "python",
   "pygments_lexer": "ipython3",
   "version": "3.7.9"
  }
 },
 "nbformat": 4,
 "nbformat_minor": 2
}
