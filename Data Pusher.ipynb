{
 "cells": [
  {
   "cell_type": "code",
   "execution_count": 13,
   "metadata": {},
   "outputs": [],
   "source": [
    "# Imports\n",
    "import requests\n",
    "from bs4 import BeautifulSoup\n",
    "import json\n",
    "from datetime import datetime\n",
    "import re\n",
    "from dataclasses import dataclass\n",
    "from typing import List"
   ]
  },
  {
   "cell_type": "code",
   "execution_count": 10,
   "metadata": {},
   "outputs": [],
   "source": [
    "@dataclass\n",
    "class Resource:\n",
    "  resource_type: str\n",
    "  resource_description: str\n",
    "  resource_qty: int\n",
    "\n",
    "@dataclass\n",
    "class Hospital:\n",
    "  name: str\n",
    "  address: str\n",
    "  district: str\n",
    "  city: str\n",
    "  state: str\n",
    "  beds_text: str\n",
    "  location: str\n",
    "  total_beds: int\n",
    "  isolation_beds: int\n",
    "  icu_beds: int\n",
    "  ventilator: int\n",
    "  last_updated: datetime\n",
    "  resources: List[Resource]"
   ]
  },
  {
   "cell_type": "code",
   "execution_count": 20,
   "metadata": {},
   "outputs": [],
   "source": [
    "# https://0bin.net/paste/89z2HD1E#inlMdwVjYCbtd6kpYtLHfpW36pQmi7VtRq5dG9hDL2M\n",
    "def resource_to_json(resource: Resource):\n",
    "    return {\n",
    "        \"resourceType\": resource.resource_type,\n",
    "        \"description\": resource.resource_description,\n",
    "        \"quantity\": resource.resource_qty\n",
    "    }\n",
    "\n",
    "def hospital_to_json(hospital: Hospital):\n",
    "    h_id = \"{}-{}-{}\".format(hospital.state, hospital.city, hospital.name)\n",
    "    resources_json_array = [resource_to_json(resource) for resource in hospital.resources]\n",
    "    json_obj = {\n",
    "        \"lastUpdatedAt\": \"2021-05-03T06:27:27.045Z\",     \n",
    "        \"resources\": resources_json_array,\n",
    "        \"vendor\": {\n",
    "            \"id\": h_id,\n",
    "            \"name\": hospital.name,\n",
    "            \"address\": {\n",
    "                \"completeAddress\": hospital.address,\n",
    "                \"city\": hospital.city,\n",
    "                \"district\": hospital.district,\n",
    "                \"state\": hospital.state\n",
    "            }\n",
    "        }\n",
    "    }\n",
    "    \n",
    "    return json_obj\n",
    "    "
   ]
  },
  {
   "cell_type": "code",
   "execution_count": 22,
   "metadata": {},
   "outputs": [],
   "source": [
    "covid_home_url_maps = \t[{\"State\": \"Delhi\", \"City\": \"Delhi\", \t\t  \t\t\t\"URL\": \"https://coviddelhi.com/data/coviddelhi.com/bed_data.json\"},\n",
    "    {\"State\": \"Karnataka\", \"City\": \"Bengaluru\", \t\t\t\"URL\": \"https://covidbengaluru.com/data/covidbengaluru.com/bed_data.json\"},\n",
    "    {\"State\": \"Andhra Pradesh\", \"City\": None, \t\t\t\"URL\": \"https://covidaps.com/data/covidaps.com/bed_data.json\"},\n",
    "    {\"State\": \"Telengana\", \"City\": None, \t  \t\t\t\"URL\": \"https://covidtelangana.com/data/covidtelangana.com/bed_data.json\"},\n",
    "    {\"State\": \"West Bengal\", \"City\": None, \t\t\"URL\": \"https://covidwb.com/data/covidwb.com/bed_data.json\"},\n",
    "    {\"State\": \"Maharastra\", \"City\": \"Pune\", \t\t\t\t\"URL\": \"https://covidpune.com/data/covidpune.com/bed_data.json\"},\n",
    "    {\"State\": \"Gujarat\", \"City\": \"Ahmedabad\",\t\t\t\t\"URL\": \"https://covidamd.com/data/covidamd.com/bed_data.json\"},\n",
    "    {\"State\": \"Gujarat\", \"City\": \"Vadodara\",\t\t\t\t\"URL\": \"https://covidbaroda.com/data/covidbaroda.com/bed_data.json\"},\n",
    "    {\"State\": \"Maharastra\", \"City\": \"Nashik\",\t\t\t\t\"URL\": \"https://covidnashik.com/data/covidnashik.com/bed_data.json\"},\n",
    "    {\"State\": \"Madhya Pradesh\", \"City\": None,\t\t\"URL\": \"https://covidmp.com/data/covidmp.com/bed_data.json\"},\n",
    "    {\"State\": \"Tamil Nadu\", \"City\": None,  \t\t\"URL\": \"https://covidtnadu.com/data/covidtnadu.com/bed_data.json\"},\n",
    "    {\"State\": \"Maharastra\", \"City\": \"Beed\", \t\t  \t\t\"URL\": \"https://covidbeed.com/data/covidbeed.com/bed_data.json\"},\n",
    "    {\"State\": \"Gujarat\", \"City\": \"Gandhi Nagar\", \t\t  \t\"URL\": \"https://covidgandhinagar.com/data/covidgandhinagar.com/bed_data.json\"}]\n",
    "\n",
    "# List of web data sources\n",
    "def get_data_from_web():\n",
    "  home_response_dict = {}\n",
    "  for covid_source in covid_home_url_maps:\n",
    "    domain = re.search(\"\\/\\/covid[a-z]*\\.\", covid_source[\"URL\"]).group(0).strip(\"\\/\\.\")\n",
    "    home_response_dict[domain] = requests.get(covid_source[\"URL\"]).text\n",
    "  return home_response_dict\n",
    "\n",
    "def get_bed_resource_type(keys):\n",
    "  return [key for key in keys if 'available_' in key and \"beds\" in key]\n",
    "\n",
    "now = datetime.now()\n",
    "\n",
    "def get_output_from_data():\n",
    "  home_response_dict = get_data_from_web()\n",
    "  source_data = {}\n",
    "  for covid_source in covid_home_url_maps:\n",
    "    state = covid_source[\"State\"]\n",
    "    city = covid_source[\"City\"]\n",
    "    domain = re.search(\"\\/\\/covid[a-z]*\\.\", covid_source[\"URL\"]).group(0).strip(\"\\/\\.\")\n",
    "    URL = covid_source[\"URL\"]\n",
    "\n",
    "    # Use requests to retrieve data from a given URL\n",
    "    home_response = home_response_dict[domain]\n",
    "\n",
    "    # Parse the whole HTML page using BeautifulSoup\n",
    "    bed_data = BeautifulSoup(home_response, 'html.parser')\n",
    "    bed_data = json.loads(bed_data.text)\n",
    "\n",
    "    output = []\n",
    "\n",
    "    for data in bed_data:\n",
    "      resources = []\n",
    "      empty_resources = 0\n",
    "      non_empty_resources = 0\n",
    "      for resource in get_bed_resource_type(data.keys()):\n",
    "        if data[resource] == 0:\n",
    "          empty_resources += 1\n",
    "        else:\n",
    "          non_empty_resources += 1\n",
    "        resources.append(Resource(resource.upper(),\n",
    "                'CovidBeds',\n",
    "                data[resource]))\n",
    "      hospital = Hospital(data.get('hospital_name', ''), \n",
    "              data.get('hospital_address', ''),\n",
    "              data.get('district', ''),\n",
    "              city,\n",
    "              state,\n",
    "              '' , #beds_text\n",
    "              '' , #location\n",
    "              non_empty_resources,\n",
    "              0,0,0,\n",
    "              datetime.fromtimestamp(data.get('last_updated_on', now.timestamp())/1000),\n",
    "              resources\n",
    "              )\n",
    "      output.append(hospital)\n",
    "    source_data[URL] = output\n",
    "  return source_data\n"
   ]
  },
  {
   "cell_type": "code",
   "execution_count": 15,
   "metadata": {},
   "outputs": [],
   "source": [
    "source_data = get_output_from_data()"
   ]
  },
  {
   "cell_type": "code",
   "execution_count": 23,
   "metadata": {},
   "outputs": [
    {
     "data": {
      "text/plain": [
       "dict_keys(['https://coviddelhi.com/data/coviddelhi.com/bed_data.json', 'https://covidbengaluru.com/data/covidbengaluru.com/bed_data.json', 'https://covidaps.com/data/covidaps.com/bed_data.json', 'https://covidtelangana.com/data/covidtelangana.com/bed_data.json', 'https://covidwb.com/data/covidwb.com/bed_data.json', 'https://covidpune.com/data/covidpune.com/bed_data.json', 'https://covidamd.com/data/covidamd.com/bed_data.json', 'https://covidbaroda.com/data/covidbaroda.com/bed_data.json', 'https://covidnashik.com/data/covidnashik.com/bed_data.json', 'https://covidmp.com/data/covidmp.com/bed_data.json', 'https://covidtnadu.com/data/covidtnadu.com/bed_data.json', 'https://covidbeed.com/data/covidbeed.com/bed_data.json', 'https://covidgandhinagar.com/data/covidgandhinagar.com/bed_data.json'])"
      ]
     },
     "execution_count": 23,
     "metadata": {},
     "output_type": "execute_result"
    }
   ],
   "source": [
    "source_data.keys()"
   ]
  },
  {
   "cell_type": "code",
   "execution_count": 21,
   "metadata": {
    "scrolled": true
   },
   "outputs": [
    {
     "data": {
      "text/plain": [
       "{'lastUpdatedAt': '2021-05-03T06:27:27.045Z',\n",
       " 'resources': [{'resourceType': <function str.upper()>,\n",
       "   'description': 'CovidBeds',\n",
       "   'quantity': 0}],\n",
       " 'vendor': {'id': 'Delhi-Delhi-AASTHA HOSPITAL',\n",
       "  'name': 'AASTHA HOSPITAL',\n",
       "  'address': {'completeAddress': 'Badli Rd, Sector 19, Rohini, New Delhi, Delhi 110042, India',\n",
       "   'city': 'Delhi',\n",
       "   'district': 'Delhi',\n",
       "   'state': 'Delhi'}}}"
      ]
     },
     "execution_count": 21,
     "metadata": {},
     "output_type": "execute_result"
    }
   ],
   "source": [
    "hospital_to_json(source_data['https://coviddelhi.com/data/coviddelhi.com/bed_data.json'][0])"
   ]
  }
 ],
 "metadata": {
  "kernelspec": {
   "display_name": "Python 3",
   "language": "python",
   "name": "python3"
  },
  "language_info": {
   "codemirror_mode": {
    "name": "ipython",
    "version": 3
   },
   "file_extension": ".py",
   "mimetype": "text/x-python",
   "name": "python",
   "nbconvert_exporter": "python",
   "pygments_lexer": "ipython3",
   "version": "3.7.9"
  }
 },
 "nbformat": 4,
 "nbformat_minor": 2
}
