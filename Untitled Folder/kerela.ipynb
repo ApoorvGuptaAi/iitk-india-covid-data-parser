{
 "cells": [
  {
   "cell_type": "code",
   "execution_count": 1,
   "metadata": {},
   "outputs": [],
   "source": [
    "import requests"
   ]
  },
  {
   "cell_type": "code",
   "execution_count": null,
   "metadata": {},
   "outputs": [],
   "source": [
    "URL_BASE='https://covid19jagratha.kerala.nic.in/home/addHospitalDashBoard?distId={}'\n",
    "\n",
    "def get_disrtrict_page(index):\n",
    "    return URL_BASE.format(index)\n",
    "\n",
    "# TODO(apoorv)\n",
    "# Request the url for the per-district page above.\n",
    "# Copy the cookies from the response.\n",
    "# Then request the json data from the following pages with the cookie copied in:\n",
    "# https://covid19jagratha.kerala.nic.in/home/getOxygenBedCount\n",
    "# https://covid19jagratha.kerala.nic.in/home/getDistHospitalCount\n",
    "# See https://covid19jagratha.kerala.nic.in/home/addHospitalDashBoard?distId=3 on how to interpret the json."
   ]
  }
 ],
 "metadata": {
  "kernelspec": {
   "display_name": "Python3 (demo3)",
   "language": "python",
   "name": "demo3kernel3"
  },
  "language_info": {
   "codemirror_mode": {
    "name": "ipython",
    "version": 3
   },
   "file_extension": ".py",
   "mimetype": "text/x-python",
   "name": "python",
   "nbconvert_exporter": "python",
   "pygments_lexer": "ipython3",
   "version": "3.7.9"
  }
 },
 "nbformat": 4,
 "nbformat_minor": 2
}
